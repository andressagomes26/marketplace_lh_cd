{
 "cells": [
  {
   "cell_type": "markdown",
   "id": "e6962d40",
   "metadata": {
    "id": "e6962d40"
   },
   "source": [
    "# <h1 align=\"center\"><font color = #119fbf>Lighthouse | Cientista de Dados | Indicium 🌎🚀</font></h1>\n",
    "\n",
    "*Andressa Gomes Moreira - andressagomesm26@gmail.com*\n",
    "\n",
    "## <a><font color = #119fbf>Modelagem</font></a>\n",
    "A etapa de modelagem dos dados consiste na criação do modelo preditivo para definir um algoritmo que resolva o problema de negócio.\n",
    "\n",
    "## <a><font color = #119fbf>Objetivo</font></a>\n",
    "Nesse desafio, o objetivo é prever o preço dos veículos a partir dos dados enviados. Portanto, temos um problema de aprendizado supervisionado, na qual, temos a disponibilidade de dados anotados. Dessa forma, como queremos prever os rótulos de saída contínuos, referente ao preço dos veículos, usaremos o conceito de regressão.\n",
    "\n",
    "## <a><font color = #119fbf>Descrição dos Dados</font></a>\n",
    "Serão utilizados dois datasets:\n",
    "\n",
    "    1. Um dataset para treinamento chamado cars_training composto por 29584 linhas, 28 colunas de informação (features) e a variável a ser prevista (“preco”).\n",
    "    2. Um segundo dataset para teste chamado de cars_test composto por 9862 linhas e 28 colunas, sendo que este dataset não possui a coluna “preco”.\n",
    "\n",
    "\n",
    "## <a><font color = #119fbf>Avaliação</font></a>\n",
    "Para avaliar a performance e desempenho dos algoritmos de regressão será utilzada a métrica Root Mean Squared Erro (RMSE). A métrica fornece a média dos erros em unidades originais da variável de resposta. Dessa forma, quanto menor o valor, melhor é o desempenho do modelo, indicando uma maior precisão nas previsões."
   ]
  },
  {
   "cell_type": "markdown",
   "id": "Mi855ASvmtvc",
   "metadata": {
    "id": "Mi855ASvmtvc"
   },
   "source": [
    "## Importações"
   ]
  },
  {
   "cell_type": "markdown",
   "id": "5e8a8dfb",
   "metadata": {
    "id": "5e8a8dfb"
   },
   "source": [
    "**Importações das bibliotecas**"
   ]
  },
  {
   "cell_type": "code",
   "execution_count": 1,
   "id": "6c511181",
   "metadata": {
    "id": "6c511181"
   },
   "outputs": [],
   "source": [
    "import pandas as pd\n",
    "from matplotlib import pyplot as plt\n",
    "import seaborn as sns\n",
    "import numpy as np\n",
    "import statistics as sts\n",
    "import joblib\n",
    "\n",
    "import sklearn\n",
    "from sklearn.preprocessing    import MinMaxScaler\n",
    "from sklearn.model_selection  import cross_val_score\n",
    "from sklearn.linear_model     import LinearRegression\n",
    "from sklearn.tree             import DecisionTreeRegressor\n",
    "from sklearn.decomposition    import PCA\n",
    "\n",
    "import warnings\n",
    "warnings.filterwarnings('ignore')"
   ]
  },
  {
   "cell_type": "markdown",
   "id": "c87d1d13",
   "metadata": {
    "id": "c87d1d13"
   },
   "source": [
    "**Carregamento dos dados de treinamento e teste**"
   ]
  },
  {
   "cell_type": "code",
   "execution_count": 2,
   "id": "24700433",
   "metadata": {
    "id": "24700433"
   },
   "outputs": [],
   "source": [
    "df_train = pd.read_csv('../dataset/cars_train.csv', sep=',')\n",
    "df_teste = pd.read_csv('../dataset/cars_test.csv', sep=',')"
   ]
  },
  {
   "cell_type": "code",
   "execution_count": 3,
   "id": "ea58e4ab",
   "metadata": {
    "colab": {
     "base_uri": "https://localhost:8080/",
     "height": 376
    },
    "id": "ea58e4ab",
    "outputId": "dce976a4-ad59-4884-fc69-80c29c66773f"
   },
   "outputs": [
    {
     "data": {
      "text/html": [
       "<div>\n",
       "<style scoped>\n",
       "    .dataframe tbody tr th:only-of-type {\n",
       "        vertical-align: middle;\n",
       "    }\n",
       "\n",
       "    .dataframe tbody tr th {\n",
       "        vertical-align: top;\n",
       "    }\n",
       "\n",
       "    .dataframe thead th {\n",
       "        text-align: right;\n",
       "    }\n",
       "</style>\n",
       "<table border=\"1\" class=\"dataframe\">\n",
       "  <thead>\n",
       "    <tr style=\"text-align: right;\">\n",
       "      <th></th>\n",
       "      <th>id</th>\n",
       "      <th>num_fotos</th>\n",
       "      <th>marca</th>\n",
       "      <th>modelo</th>\n",
       "      <th>versao</th>\n",
       "      <th>ano_de_fabricacao</th>\n",
       "      <th>ano_modelo</th>\n",
       "      <th>hodometro</th>\n",
       "      <th>cambio</th>\n",
       "      <th>num_portas</th>\n",
       "      <th>...</th>\n",
       "      <th>elegivel_revisao</th>\n",
       "      <th>dono_aceita_troca</th>\n",
       "      <th>veiculo_único_dono</th>\n",
       "      <th>revisoes_concessionaria</th>\n",
       "      <th>ipva_pago</th>\n",
       "      <th>veiculo_licenciado</th>\n",
       "      <th>garantia_de_fábrica</th>\n",
       "      <th>revisoes_dentro_agenda</th>\n",
       "      <th>veiculo_alienado</th>\n",
       "      <th>preco</th>\n",
       "    </tr>\n",
       "  </thead>\n",
       "  <tbody>\n",
       "    <tr>\n",
       "      <th>0</th>\n",
       "      <td>300716223898539419613863097469899222392</td>\n",
       "      <td>8.0</td>\n",
       "      <td>NISSAN</td>\n",
       "      <td>KICKS</td>\n",
       "      <td>1.6 16V FLEXSTART SL 4P XTRONIC</td>\n",
       "      <td>2017</td>\n",
       "      <td>2017.0</td>\n",
       "      <td>67772.0</td>\n",
       "      <td>CVT</td>\n",
       "      <td>4</td>\n",
       "      <td>...</td>\n",
       "      <td>False</td>\n",
       "      <td>NaN</td>\n",
       "      <td>NaN</td>\n",
       "      <td>Todas as revisões feitas pela concessionária</td>\n",
       "      <td>IPVA pago</td>\n",
       "      <td>Licenciado</td>\n",
       "      <td>NaN</td>\n",
       "      <td>NaN</td>\n",
       "      <td>NaN</td>\n",
       "      <td>74732.590084</td>\n",
       "    </tr>\n",
       "    <tr>\n",
       "      <th>1</th>\n",
       "      <td>279639842134129588306469566150288644214</td>\n",
       "      <td>8.0</td>\n",
       "      <td>JEEP</td>\n",
       "      <td>COMPASS</td>\n",
       "      <td>2.0 16V FLEX LIMITED AUTOMÁTICO</td>\n",
       "      <td>2017</td>\n",
       "      <td>2017.0</td>\n",
       "      <td>62979.0</td>\n",
       "      <td>Automática</td>\n",
       "      <td>4</td>\n",
       "      <td>...</td>\n",
       "      <td>False</td>\n",
       "      <td>Aceita troca</td>\n",
       "      <td>NaN</td>\n",
       "      <td>NaN</td>\n",
       "      <td>IPVA pago</td>\n",
       "      <td>NaN</td>\n",
       "      <td>NaN</td>\n",
       "      <td>NaN</td>\n",
       "      <td>NaN</td>\n",
       "      <td>81965.332634</td>\n",
       "    </tr>\n",
       "    <tr>\n",
       "      <th>2</th>\n",
       "      <td>56414460810621048900295678236538171981</td>\n",
       "      <td>16.0</td>\n",
       "      <td>KIA</td>\n",
       "      <td>SORENTO</td>\n",
       "      <td>2.4 16V GASOLINA EX 7L AWD AUTOMÁTICO</td>\n",
       "      <td>2018</td>\n",
       "      <td>2019.0</td>\n",
       "      <td>44070.0</td>\n",
       "      <td>Automática</td>\n",
       "      <td>4</td>\n",
       "      <td>...</td>\n",
       "      <td>False</td>\n",
       "      <td>Aceita troca</td>\n",
       "      <td>NaN</td>\n",
       "      <td>NaN</td>\n",
       "      <td>NaN</td>\n",
       "      <td>NaN</td>\n",
       "      <td>NaN</td>\n",
       "      <td>NaN</td>\n",
       "      <td>NaN</td>\n",
       "      <td>162824.814472</td>\n",
       "    </tr>\n",
       "  </tbody>\n",
       "</table>\n",
       "<p>3 rows × 29 columns</p>\n",
       "</div>"
      ],
      "text/plain": [
       "                                        id  num_fotos   marca   modelo  \\\n",
       "0  300716223898539419613863097469899222392        8.0  NISSAN    KICKS   \n",
       "1  279639842134129588306469566150288644214        8.0    JEEP  COMPASS   \n",
       "2   56414460810621048900295678236538171981       16.0     KIA  SORENTO   \n",
       "\n",
       "                                  versao  ano_de_fabricacao  ano_modelo  \\\n",
       "0        1.6 16V FLEXSTART SL 4P XTRONIC               2017      2017.0   \n",
       "1        2.0 16V FLEX LIMITED AUTOMÁTICO               2017      2017.0   \n",
       "2  2.4 16V GASOLINA EX 7L AWD AUTOMÁTICO               2018      2019.0   \n",
       "\n",
       "   hodometro      cambio  num_portas  ... elegivel_revisao dono_aceita_troca  \\\n",
       "0    67772.0         CVT           4  ...            False               NaN   \n",
       "1    62979.0  Automática           4  ...            False      Aceita troca   \n",
       "2    44070.0  Automática           4  ...            False      Aceita troca   \n",
       "\n",
       "  veiculo_único_dono                       revisoes_concessionaria  ipva_pago  \\\n",
       "0                NaN  Todas as revisões feitas pela concessionária  IPVA pago   \n",
       "1                NaN                                           NaN  IPVA pago   \n",
       "2                NaN                                           NaN        NaN   \n",
       "\n",
       "  veiculo_licenciado garantia_de_fábrica  revisoes_dentro_agenda  \\\n",
       "0         Licenciado                 NaN                     NaN   \n",
       "1                NaN                 NaN                     NaN   \n",
       "2                NaN                 NaN                     NaN   \n",
       "\n",
       "   veiculo_alienado          preco  \n",
       "0               NaN   74732.590084  \n",
       "1               NaN   81965.332634  \n",
       "2               NaN  162824.814472  \n",
       "\n",
       "[3 rows x 29 columns]"
      ]
     },
     "execution_count": 3,
     "metadata": {},
     "output_type": "execute_result"
    }
   ],
   "source": [
    "df_train.head(3)"
   ]
  },
  {
   "cell_type": "code",
   "execution_count": 4,
   "id": "a3d469e4",
   "metadata": {
    "colab": {
     "base_uri": "https://localhost:8080/",
     "height": 393
    },
    "id": "a3d469e4",
    "outputId": "1e0cdacc-6118-4b0f-f69f-7734d16d6a1d"
   },
   "outputs": [
    {
     "data": {
      "text/html": [
       "<div>\n",
       "<style scoped>\n",
       "    .dataframe tbody tr th:only-of-type {\n",
       "        vertical-align: middle;\n",
       "    }\n",
       "\n",
       "    .dataframe tbody tr th {\n",
       "        vertical-align: top;\n",
       "    }\n",
       "\n",
       "    .dataframe thead th {\n",
       "        text-align: right;\n",
       "    }\n",
       "</style>\n",
       "<table border=\"1\" class=\"dataframe\">\n",
       "  <thead>\n",
       "    <tr style=\"text-align: right;\">\n",
       "      <th></th>\n",
       "      <th>id</th>\n",
       "      <th>num_fotos</th>\n",
       "      <th>marca</th>\n",
       "      <th>modelo</th>\n",
       "      <th>versao</th>\n",
       "      <th>ano_de_fabricacao</th>\n",
       "      <th>ano_modelo</th>\n",
       "      <th>hodometro</th>\n",
       "      <th>cambio</th>\n",
       "      <th>num_portas</th>\n",
       "      <th>...</th>\n",
       "      <th>troca</th>\n",
       "      <th>elegivel_revisao</th>\n",
       "      <th>dono_aceita_troca</th>\n",
       "      <th>veiculo_único_dono</th>\n",
       "      <th>revisoes_concessionaria</th>\n",
       "      <th>ipva_pago</th>\n",
       "      <th>veiculo_licenciado</th>\n",
       "      <th>garantia_de_fábrica</th>\n",
       "      <th>revisoes_dentro_agenda</th>\n",
       "      <th>veiculo_alienado</th>\n",
       "    </tr>\n",
       "  </thead>\n",
       "  <tbody>\n",
       "    <tr>\n",
       "      <th>0</th>\n",
       "      <td>13518783164498355150900635905895481162</td>\n",
       "      <td>8.0</td>\n",
       "      <td>NISSAN</td>\n",
       "      <td>VERSA</td>\n",
       "      <td>1.6 16V FLEXSTART V-DRIVE MANUAL</td>\n",
       "      <td>2021</td>\n",
       "      <td>2021.0</td>\n",
       "      <td>20258.0</td>\n",
       "      <td>Manual</td>\n",
       "      <td>4</td>\n",
       "      <td>...</td>\n",
       "      <td>False</td>\n",
       "      <td>False</td>\n",
       "      <td>Aceita troca</td>\n",
       "      <td>NaN</td>\n",
       "      <td>NaN</td>\n",
       "      <td>IPVA pago</td>\n",
       "      <td>Licenciado</td>\n",
       "      <td>Garantia de fábrica</td>\n",
       "      <td>NaN</td>\n",
       "      <td>NaN</td>\n",
       "    </tr>\n",
       "    <tr>\n",
       "      <th>1</th>\n",
       "      <td>299896161723793383246777788797566040330</td>\n",
       "      <td>18.0</td>\n",
       "      <td>FIAT</td>\n",
       "      <td>STRADA</td>\n",
       "      <td>1.4 MPI WORKING CS 8V FLEX 2P MANUAL</td>\n",
       "      <td>2021</td>\n",
       "      <td>2021.0</td>\n",
       "      <td>53045.0</td>\n",
       "      <td>Manual</td>\n",
       "      <td>2</td>\n",
       "      <td>...</td>\n",
       "      <td>False</td>\n",
       "      <td>False</td>\n",
       "      <td>Aceita troca</td>\n",
       "      <td>Único dono</td>\n",
       "      <td>NaN</td>\n",
       "      <td>IPVA pago</td>\n",
       "      <td>Licenciado</td>\n",
       "      <td>NaN</td>\n",
       "      <td>NaN</td>\n",
       "      <td>NaN</td>\n",
       "    </tr>\n",
       "    <tr>\n",
       "      <th>2</th>\n",
       "      <td>316180649972302128246133616457018378621</td>\n",
       "      <td>8.0</td>\n",
       "      <td>AUDI</td>\n",
       "      <td>Q5</td>\n",
       "      <td>2.0 TFSI GASOLINA BLACK S TRONIC</td>\n",
       "      <td>2018</td>\n",
       "      <td>2019.0</td>\n",
       "      <td>32486.0</td>\n",
       "      <td>Automática</td>\n",
       "      <td>4</td>\n",
       "      <td>...</td>\n",
       "      <td>False</td>\n",
       "      <td>False</td>\n",
       "      <td>Aceita troca</td>\n",
       "      <td>NaN</td>\n",
       "      <td>NaN</td>\n",
       "      <td>IPVA pago</td>\n",
       "      <td>NaN</td>\n",
       "      <td>NaN</td>\n",
       "      <td>NaN</td>\n",
       "      <td>NaN</td>\n",
       "    </tr>\n",
       "  </tbody>\n",
       "</table>\n",
       "<p>3 rows × 28 columns</p>\n",
       "</div>"
      ],
      "text/plain": [
       "                                        id  num_fotos   marca  modelo  \\\n",
       "0   13518783164498355150900635905895481162        8.0  NISSAN   VERSA   \n",
       "1  299896161723793383246777788797566040330       18.0    FIAT  STRADA   \n",
       "2  316180649972302128246133616457018378621        8.0    AUDI      Q5   \n",
       "\n",
       "                                 versao  ano_de_fabricacao  ano_modelo  \\\n",
       "0      1.6 16V FLEXSTART V-DRIVE MANUAL               2021      2021.0   \n",
       "1  1.4 MPI WORKING CS 8V FLEX 2P MANUAL               2021      2021.0   \n",
       "2      2.0 TFSI GASOLINA BLACK S TRONIC               2018      2019.0   \n",
       "\n",
       "   hodometro      cambio  num_portas  ...  troca elegivel_revisao  \\\n",
       "0    20258.0      Manual           4  ...  False            False   \n",
       "1    53045.0      Manual           2  ...  False            False   \n",
       "2    32486.0  Automática           4  ...  False            False   \n",
       "\n",
       "  dono_aceita_troca veiculo_único_dono revisoes_concessionaria  ipva_pago  \\\n",
       "0      Aceita troca                NaN                     NaN  IPVA pago   \n",
       "1      Aceita troca         Único dono                     NaN  IPVA pago   \n",
       "2      Aceita troca                NaN                     NaN  IPVA pago   \n",
       "\n",
       "  veiculo_licenciado  garantia_de_fábrica  revisoes_dentro_agenda  \\\n",
       "0         Licenciado  Garantia de fábrica                     NaN   \n",
       "1         Licenciado                  NaN                     NaN   \n",
       "2                NaN                  NaN                     NaN   \n",
       "\n",
       "   veiculo_alienado  \n",
       "0               NaN  \n",
       "1               NaN  \n",
       "2               NaN  \n",
       "\n",
       "[3 rows x 28 columns]"
      ]
     },
     "execution_count": 4,
     "metadata": {},
     "output_type": "execute_result"
    }
   ],
   "source": [
    "df_teste.head(3)"
   ]
  },
  {
   "cell_type": "markdown",
   "id": "6d8c5817",
   "metadata": {
    "id": "6d8c5817"
   },
   "source": [
    "## Tratamento de Valores Nulos"
   ]
  },
  {
   "cell_type": "code",
   "execution_count": 5,
   "id": "7956d5d3",
   "metadata": {
    "colab": {
     "base_uri": "https://localhost:8080/"
    },
    "id": "7956d5d3",
    "outputId": "333afea9-c2f7-483e-c6f2-368d5f436116"
   },
   "outputs": [
    {
     "data": {
      "text/plain": [
       "id                             0\n",
       "num_fotos                    177\n",
       "marca                          0\n",
       "modelo                         0\n",
       "versao                         0\n",
       "ano_de_fabricacao              0\n",
       "ano_modelo                     0\n",
       "hodometro                      0\n",
       "cambio                         0\n",
       "num_portas                     0\n",
       "tipo                           0\n",
       "blindado                       0\n",
       "cor                            0\n",
       "tipo_vendedor                  0\n",
       "cidade_vendedor                0\n",
       "estado_vendedor                0\n",
       "anunciante                     0\n",
       "entrega_delivery               0\n",
       "troca                          0\n",
       "elegivel_revisao               0\n",
       "dono_aceita_troca           7662\n",
       "veiculo_único_dono         19161\n",
       "revisoes_concessionaria    20412\n",
       "ipva_pago                   9925\n",
       "veiculo_licenciado         13678\n",
       "garantia_de_fábrica        25219\n",
       "revisoes_dentro_agenda     23674\n",
       "veiculo_alienado           29584\n",
       "preco                          0\n",
       "dtype: int64"
      ]
     },
     "execution_count": 5,
     "metadata": {},
     "output_type": "execute_result"
    }
   ],
   "source": [
    "df_train.isnull().sum()"
   ]
  },
  {
   "cell_type": "code",
   "execution_count": 6,
   "id": "8e34ad56",
   "metadata": {
    "colab": {
     "base_uri": "https://localhost:8080/"
    },
    "id": "8e34ad56",
    "outputId": "9f3a5d5e-4770-4dbb-8984-3ae7a7ad3aa0"
   },
   "outputs": [
    {
     "data": {
      "text/plain": [
       "id                            0\n",
       "num_fotos                    60\n",
       "marca                         0\n",
       "modelo                        0\n",
       "versao                        0\n",
       "ano_de_fabricacao             0\n",
       "ano_modelo                    0\n",
       "hodometro                     0\n",
       "cambio                        0\n",
       "num_portas                    0\n",
       "tipo                          0\n",
       "blindado                      0\n",
       "cor                           0\n",
       "tipo_vendedor                 0\n",
       "cidade_vendedor               0\n",
       "estado_vendedor               0\n",
       "anunciante                    0\n",
       "entrega_delivery              0\n",
       "troca                         0\n",
       "elegivel_revisao              0\n",
       "dono_aceita_troca          2554\n",
       "veiculo_único_dono         6387\n",
       "revisoes_concessionaria    6795\n",
       "ipva_pago                  3298\n",
       "veiculo_licenciado         4518\n",
       "garantia_de_fábrica        8439\n",
       "revisoes_dentro_agenda     7869\n",
       "veiculo_alienado           9862\n",
       "dtype: int64"
      ]
     },
     "execution_count": 6,
     "metadata": {},
     "output_type": "execute_result"
    }
   ],
   "source": [
    "df_teste.isnull().sum()"
   ]
  },
  {
   "cell_type": "code",
   "execution_count": 7,
   "id": "b313cca3",
   "metadata": {
    "id": "b313cca3"
   },
   "outputs": [],
   "source": [
    "def missing_values(df):\n",
    "    \"\"\"Realiza o tratamento dos valores missing no DataFrame\n",
    "\n",
    "    Args:\n",
    "        df (DataFrame): Dataframe para tratamento (df_train / df_teste)\n",
    "\n",
    "    Returns:\n",
    "        None\n",
    "    \"\"\"\n",
    "\n",
    "    colunas = ['dono_aceita_troca', 'veiculo_único_dono', 'revisoes_concessionaria', 'ipva_pago', 'veiculo_licenciado', 'garantia_de_fábrica', 'revisoes_dentro_agenda']\n",
    "    values = ['Nao aceita troca', 'Não é único dono', 'Não possui todas as revisoes feitas pela concessionaria', 'ipva não pago', 'Não Licenciado', 'Não possui garantia de fábrica', 'não possui todas as revisões feitas pela agenda do carro']\n",
    "\n",
    "    for i, coluna in enumerate(colunas):\n",
    "        df[coluna] = df[coluna].replace(np.nan, values[i])\n",
    "\n",
    "    df['num_fotos'].fillna(sts.median(df['num_fotos']), inplace=True)"
   ]
  },
  {
   "cell_type": "code",
   "execution_count": 8,
   "id": "a0ab0458",
   "metadata": {
    "id": "a0ab0458"
   },
   "outputs": [],
   "source": [
    "missing_values(df_train)\n",
    "missing_values(df_teste)"
   ]
  },
  {
   "cell_type": "code",
   "execution_count": 9,
   "id": "79b309a7",
   "metadata": {
    "colab": {
     "base_uri": "https://localhost:8080/"
    },
    "id": "79b309a7",
    "outputId": "e8967dd1-d6bb-4217-ff09-01a7f0406dfa"
   },
   "outputs": [
    {
     "data": {
      "text/plain": [
       "id                             0\n",
       "num_fotos                      0\n",
       "marca                          0\n",
       "modelo                         0\n",
       "versao                         0\n",
       "ano_de_fabricacao              0\n",
       "ano_modelo                     0\n",
       "hodometro                      0\n",
       "cambio                         0\n",
       "num_portas                     0\n",
       "tipo                           0\n",
       "blindado                       0\n",
       "cor                            0\n",
       "tipo_vendedor                  0\n",
       "cidade_vendedor                0\n",
       "estado_vendedor                0\n",
       "anunciante                     0\n",
       "entrega_delivery               0\n",
       "troca                          0\n",
       "elegivel_revisao               0\n",
       "dono_aceita_troca              0\n",
       "veiculo_único_dono             0\n",
       "revisoes_concessionaria        0\n",
       "ipva_pago                      0\n",
       "veiculo_licenciado             0\n",
       "garantia_de_fábrica            0\n",
       "revisoes_dentro_agenda         0\n",
       "veiculo_alienado           29584\n",
       "preco                          0\n",
       "dtype: int64"
      ]
     },
     "execution_count": 9,
     "metadata": {},
     "output_type": "execute_result"
    }
   ],
   "source": [
    "df_train.isnull().sum()"
   ]
  },
  {
   "cell_type": "markdown",
   "id": "LLsgCIv_oWHB",
   "metadata": {
    "id": "LLsgCIv_oWHB"
   },
   "source": [
    "## Tratamento de Valores Duplicados"
   ]
  },
  {
   "cell_type": "code",
   "execution_count": 10,
   "id": "5T4tLLSloY76",
   "metadata": {
    "colab": {
     "base_uri": "https://localhost:8080/"
    },
    "id": "5T4tLLSloY76",
    "outputId": "2170ed3a-6ae8-41f9-8c9b-e28640e10e84"
   },
   "outputs": [
    {
     "name": "stdout",
     "output_type": "stream",
     "text": [
      "Quantidade de dados duplicados no dataset de treinamento: 0\n",
      "Quantidade de dados duplicados no dataset de teste: 0\n"
     ]
    }
   ],
   "source": [
    "print(f'Quantidade de dados duplicados no dataset de treinamento: {df_train.duplicated().sum()}')\n",
    "print(f'Quantidade de dados duplicados no dataset de teste: {df_teste.duplicated().sum()}')"
   ]
  },
  {
   "cell_type": "markdown",
   "id": "509a8807",
   "metadata": {
    "id": "509a8807"
   },
   "source": [
    "### Drop atributos\n",
    "\n",
    "* Excluir as colunas 'id' e 'veiculo_alienado'"
   ]
  },
  {
   "cell_type": "code",
   "execution_count": 11,
   "id": "tLuxuCd2n6yg",
   "metadata": {
    "id": "tLuxuCd2n6yg"
   },
   "outputs": [],
   "source": [
    "df_train = df_train.drop('id', axis=1)\n",
    "df_train = df_train.drop('veiculo_alienado', axis=1)"
   ]
  },
  {
   "cell_type": "code",
   "execution_count": 12,
   "id": "0060b971",
   "metadata": {
    "id": "0060b971"
   },
   "outputs": [],
   "source": [
    "id_df_teste = df_teste['id']\n",
    "\n",
    "df_teste = df_teste.drop('id', axis=1)\n",
    "df_teste = df_teste.drop('veiculo_alienado', axis=1)"
   ]
  },
  {
   "cell_type": "markdown",
   "id": "Epc6efbYHdHq",
   "metadata": {
    "id": "Epc6efbYHdHq"
   },
   "source": [
    "## Codificação de Dados Categóricos\n",
    "\n"
   ]
  },
  {
   "cell_type": "markdown",
   "id": "u-krcnet1OpC",
   "metadata": {
    "id": "u-krcnet1OpC"
   },
   "source": [
    "### Encoder"
   ]
  },
  {
   "cell_type": "code",
   "execution_count": 13,
   "id": "zSjBbKib1OC6",
   "metadata": {
    "id": "zSjBbKib1OC6"
   },
   "outputs": [],
   "source": [
    "def var_categoricas(df):\n",
    "    \"\"\"Realiza a codificação das variáveis categóricas binárias\n",
    "\n",
    "    Args:\n",
    "        df (DataFrame): Dataframe para tratamento (df_train / df_teste)\n",
    "\n",
    "    Returns:\n",
    "        None\n",
    "    \"\"\"\n",
    "\n",
    "    df['entrega_delivery'].replace([True,  False],[0,1],inplace=True)\n",
    "    df['troca'].replace([True,  False],[0,1],inplace=True)\n",
    "    df['elegivel_revisao'].replace([True,  False],[0,1],inplace=True)\n",
    "    df['blindado'].replace(['N','S'],[0,1],inplace=True)\n",
    "    df['tipo_vendedor'].replace(['PF', 'PJ'],[0,1],inplace=True)\n",
    "    df['dono_aceita_troca'].replace(['Aceita troca', 'Nao aceita troca'],[0,1],inplace=True)\n",
    "    df['veiculo_único_dono'].replace(['Único dono', 'Não é único dono'],[0,1],inplace=True)\n",
    "    df['revisoes_concessionaria'].replace(['Todas as revisões feitas pela concessionária', 'Não possui todas as revisoes feitas pela concessionaria'],[0,1],inplace=True)\n",
    "    df['ipva_pago'].replace(['IPVA pago', 'ipva não pago'],[0,1],inplace=True)\n",
    "    df['veiculo_licenciado'].replace(['Licenciado', 'Não Licenciado'],[0,1],inplace=True)\n",
    "    df['garantia_de_fábrica'].replace(['Garantia de fábrica', 'Não possui garantia de fábrica'],[0,1],inplace=True)\n",
    "    df['revisoes_dentro_agenda'].replace(['Todas as revisões feitas pela agenda do carro', 'não possui todas as revisões feitas pela agenda do carro'],[0,1],inplace=True)"
   ]
  },
  {
   "cell_type": "code",
   "execution_count": 14,
   "id": "m4dsSr7U1UJ_",
   "metadata": {
    "id": "m4dsSr7U1UJ_"
   },
   "outputs": [],
   "source": [
    "var_categoricas(df_train)\n",
    "var_categoricas(df_teste)"
   ]
  },
  {
   "cell_type": "markdown",
   "id": "qjaVOIy01hJf",
   "metadata": {
    "id": "qjaVOIy01hJf"
   },
   "source": [
    "### One-hot-encoding"
   ]
  },
  {
   "cell_type": "code",
   "execution_count": 15,
   "id": "CGPOHvo_1v-h",
   "metadata": {
    "id": "CGPOHvo_1v-h"
   },
   "outputs": [],
   "source": [
    "def cat_unique(df):\n",
    "    \"\"\"Adiciona os valores únicos do DataFrame em um array\n",
    "\n",
    "    Args:\n",
    "        df (DataFrame): Dataframe\n",
    "\n",
    "    Returns:\n",
    "        val_unique (array): Valores únicos do DataFrame\n",
    "    \"\"\"\n",
    "\n",
    "    colunas = ['marca', 'modelo', 'versao', 'tipo', 'cor', 'cidade_vendedor', 'estado_vendedor', 'cambio', 'anunciante']\n",
    "    val_unique = []\n",
    "\n",
    "    for coluna in colunas:\n",
    "        val_unique.append(set(df[coluna].unique()))\n",
    "\n",
    "    return val_unique\n",
    "\n",
    "union_cat_train = cat_unique(df_train)\n",
    "union_cat_teste = cat_unique(df_teste)"
   ]
  },
  {
   "cell_type": "code",
   "execution_count": 16,
   "id": "GWJOa73K2P1b",
   "metadata": {
    "id": "GWJOa73K2P1b"
   },
   "outputs": [],
   "source": [
    "def union_cat(union_cat_train, union_cat_teste):\n",
    "    \"\"\"Realiza uma operação de união entre os valores únicos do DataFrame de treinamento e de teste.\n",
    "\n",
    "    Args:\n",
    "        union_cat_train (array): Valores únicos do DataFrame de treinamento (df_train)\n",
    "        union_cat_teste (array): Valores únicos do DataFrame de teste (df_teste)\n",
    "\n",
    "    Returns:\n",
    "        union_cat_resultado (array): Array com os valores únicos do DataFrame de treinamento e de teste.\n",
    "    \"\"\"\n",
    "    colunas = ['marca', 'modelo', 'versao', 'tipo', 'cor', 'cidade_vendedor', 'estado_vendedor', 'cambio', 'anunciante']\n",
    "    union_cat_resultado = []\n",
    "\n",
    "    for i, coluna in enumerate(colunas):\n",
    "        union_cat_resultado.append(union_cat_train[i].union(union_cat_teste[i]))\n",
    "\n",
    "    return union_cat_resultado\n",
    "\n",
    "union_categories = union_cat(union_cat_train, union_cat_teste)"
   ]
  },
  {
   "cell_type": "code",
   "execution_count": 17,
   "id": "KM5OYHH03IdZ",
   "metadata": {
    "id": "KM5OYHH03IdZ"
   },
   "outputs": [],
   "source": [
    "def atualiza_dataset(df, union_categories):\n",
    "    \"\"\" Atualiza os DataFrames com as categorias unificadas\n",
    "\n",
    "    Args:\n",
    "        df (DataFrame): Dataframe (df_train ou df_teste)\n",
    "        union_cat_resultado (array): Valores únicos do DataFrame de treinamento e de teste.\n",
    "\n",
    "    Returns:\n",
    "        None\n",
    "    \"\"\"\n",
    "\n",
    "    colunas = ['marca', 'modelo', 'versao', 'tipo', 'cor', 'cidade_vendedor', 'estado_vendedor', 'cambio', 'anunciante']\n",
    "\n",
    "    for i, coluna in enumerate(colunas):\n",
    "        df[coluna] = df[coluna].astype('category').cat.set_categories(union_categories[i])\n",
    "\n",
    "atualiza_dataset(df_train, union_categories)\n",
    "atualiza_dataset(df_teste, union_categories)"
   ]
  },
  {
   "cell_type": "code",
   "execution_count": 18,
   "id": "NNLhbvbIwMF1",
   "metadata": {
    "id": "NNLhbvbIwMF1"
   },
   "outputs": [],
   "source": [
    "# Aplica o one-hot encoding no Dataframe de treinamento e de  teste\n",
    "train_encoded = pd.get_dummies(df_train)\n",
    "test_encoded = pd.get_dummies(df_teste)"
   ]
  },
  {
   "cell_type": "code",
   "execution_count": 19,
   "id": "ZFE7_TP1wYby",
   "metadata": {
    "colab": {
     "base_uri": "https://localhost:8080/",
     "height": 317
    },
    "id": "ZFE7_TP1wYby",
    "outputId": "f562aa74-f95a-4933-8820-d6c3d1c040ab"
   },
   "outputs": [
    {
     "data": {
      "text/html": [
       "<div>\n",
       "<style scoped>\n",
       "    .dataframe tbody tr th:only-of-type {\n",
       "        vertical-align: middle;\n",
       "    }\n",
       "\n",
       "    .dataframe tbody tr th {\n",
       "        vertical-align: top;\n",
       "    }\n",
       "\n",
       "    .dataframe thead th {\n",
       "        text-align: right;\n",
       "    }\n",
       "</style>\n",
       "<table border=\"1\" class=\"dataframe\">\n",
       "  <thead>\n",
       "    <tr style=\"text-align: right;\">\n",
       "      <th></th>\n",
       "      <th>num_fotos</th>\n",
       "      <th>ano_de_fabricacao</th>\n",
       "      <th>ano_modelo</th>\n",
       "      <th>hodometro</th>\n",
       "      <th>num_portas</th>\n",
       "      <th>blindado</th>\n",
       "      <th>tipo_vendedor</th>\n",
       "      <th>entrega_delivery</th>\n",
       "      <th>troca</th>\n",
       "      <th>elegivel_revisao</th>\n",
       "      <th>...</th>\n",
       "      <th>estado_vendedor_Goiás (GO)</th>\n",
       "      <th>estado_vendedor_Espírito Santo (ES)</th>\n",
       "      <th>estado_vendedor_Piauí (PI)</th>\n",
       "      <th>estado_vendedor_Pará (PA)</th>\n",
       "      <th>estado_vendedor_Santa Catarina (SC)</th>\n",
       "      <th>estado_vendedor_Ceará (CE)</th>\n",
       "      <th>anunciante_Loja</th>\n",
       "      <th>anunciante_Acessórios e serviços para autos</th>\n",
       "      <th>anunciante_Pessoa Física</th>\n",
       "      <th>anunciante_Concessionária</th>\n",
       "    </tr>\n",
       "  </thead>\n",
       "  <tbody>\n",
       "    <tr>\n",
       "      <th>0</th>\n",
       "      <td>8.0</td>\n",
       "      <td>2017</td>\n",
       "      <td>2017.0</td>\n",
       "      <td>67772.0</td>\n",
       "      <td>4</td>\n",
       "      <td>0</td>\n",
       "      <td>0</td>\n",
       "      <td>1</td>\n",
       "      <td>1</td>\n",
       "      <td>1</td>\n",
       "      <td>...</td>\n",
       "      <td>0</td>\n",
       "      <td>0</td>\n",
       "      <td>0</td>\n",
       "      <td>0</td>\n",
       "      <td>0</td>\n",
       "      <td>0</td>\n",
       "      <td>0</td>\n",
       "      <td>0</td>\n",
       "      <td>1</td>\n",
       "      <td>0</td>\n",
       "    </tr>\n",
       "    <tr>\n",
       "      <th>1</th>\n",
       "      <td>8.0</td>\n",
       "      <td>2017</td>\n",
       "      <td>2017.0</td>\n",
       "      <td>62979.0</td>\n",
       "      <td>4</td>\n",
       "      <td>0</td>\n",
       "      <td>0</td>\n",
       "      <td>1</td>\n",
       "      <td>1</td>\n",
       "      <td>1</td>\n",
       "      <td>...</td>\n",
       "      <td>0</td>\n",
       "      <td>0</td>\n",
       "      <td>0</td>\n",
       "      <td>0</td>\n",
       "      <td>0</td>\n",
       "      <td>0</td>\n",
       "      <td>0</td>\n",
       "      <td>0</td>\n",
       "      <td>1</td>\n",
       "      <td>0</td>\n",
       "    </tr>\n",
       "    <tr>\n",
       "      <th>2</th>\n",
       "      <td>16.0</td>\n",
       "      <td>2018</td>\n",
       "      <td>2019.0</td>\n",
       "      <td>44070.0</td>\n",
       "      <td>4</td>\n",
       "      <td>0</td>\n",
       "      <td>1</td>\n",
       "      <td>0</td>\n",
       "      <td>1</td>\n",
       "      <td>1</td>\n",
       "      <td>...</td>\n",
       "      <td>0</td>\n",
       "      <td>0</td>\n",
       "      <td>0</td>\n",
       "      <td>0</td>\n",
       "      <td>0</td>\n",
       "      <td>0</td>\n",
       "      <td>1</td>\n",
       "      <td>0</td>\n",
       "      <td>0</td>\n",
       "      <td>0</td>\n",
       "    </tr>\n",
       "    <tr>\n",
       "      <th>3</th>\n",
       "      <td>14.0</td>\n",
       "      <td>2013</td>\n",
       "      <td>2015.0</td>\n",
       "      <td>85357.0</td>\n",
       "      <td>4</td>\n",
       "      <td>0</td>\n",
       "      <td>1</td>\n",
       "      <td>0</td>\n",
       "      <td>0</td>\n",
       "      <td>1</td>\n",
       "      <td>...</td>\n",
       "      <td>0</td>\n",
       "      <td>0</td>\n",
       "      <td>0</td>\n",
       "      <td>0</td>\n",
       "      <td>0</td>\n",
       "      <td>0</td>\n",
       "      <td>1</td>\n",
       "      <td>0</td>\n",
       "      <td>0</td>\n",
       "      <td>0</td>\n",
       "    </tr>\n",
       "    <tr>\n",
       "      <th>4</th>\n",
       "      <td>8.0</td>\n",
       "      <td>2013</td>\n",
       "      <td>2015.0</td>\n",
       "      <td>71491.0</td>\n",
       "      <td>4</td>\n",
       "      <td>0</td>\n",
       "      <td>0</td>\n",
       "      <td>1</td>\n",
       "      <td>1</td>\n",
       "      <td>1</td>\n",
       "      <td>...</td>\n",
       "      <td>0</td>\n",
       "      <td>0</td>\n",
       "      <td>0</td>\n",
       "      <td>0</td>\n",
       "      <td>0</td>\n",
       "      <td>0</td>\n",
       "      <td>0</td>\n",
       "      <td>0</td>\n",
       "      <td>1</td>\n",
       "      <td>0</td>\n",
       "    </tr>\n",
       "  </tbody>\n",
       "</table>\n",
       "<p>5 rows × 3290 columns</p>\n",
       "</div>"
      ],
      "text/plain": [
       "   num_fotos  ano_de_fabricacao  ano_modelo  hodometro  num_portas  blindado  \\\n",
       "0        8.0               2017      2017.0    67772.0           4         0   \n",
       "1        8.0               2017      2017.0    62979.0           4         0   \n",
       "2       16.0               2018      2019.0    44070.0           4         0   \n",
       "3       14.0               2013      2015.0    85357.0           4         0   \n",
       "4        8.0               2013      2015.0    71491.0           4         0   \n",
       "\n",
       "   tipo_vendedor  entrega_delivery  troca  elegivel_revisao  ...  \\\n",
       "0              0                 1      1                 1  ...   \n",
       "1              0                 1      1                 1  ...   \n",
       "2              1                 0      1                 1  ...   \n",
       "3              1                 0      0                 1  ...   \n",
       "4              0                 1      1                 1  ...   \n",
       "\n",
       "   estado_vendedor_Goiás (GO)  estado_vendedor_Espírito Santo (ES)  \\\n",
       "0                           0                                    0   \n",
       "1                           0                                    0   \n",
       "2                           0                                    0   \n",
       "3                           0                                    0   \n",
       "4                           0                                    0   \n",
       "\n",
       "   estado_vendedor_Piauí (PI)  estado_vendedor_Pará (PA)  \\\n",
       "0                           0                          0   \n",
       "1                           0                          0   \n",
       "2                           0                          0   \n",
       "3                           0                          0   \n",
       "4                           0                          0   \n",
       "\n",
       "   estado_vendedor_Santa Catarina (SC)  estado_vendedor_Ceará (CE)  \\\n",
       "0                                    0                           0   \n",
       "1                                    0                           0   \n",
       "2                                    0                           0   \n",
       "3                                    0                           0   \n",
       "4                                    0                           0   \n",
       "\n",
       "   anunciante_Loja  anunciante_Acessórios e serviços para autos  \\\n",
       "0                0                                            0   \n",
       "1                0                                            0   \n",
       "2                1                                            0   \n",
       "3                1                                            0   \n",
       "4                0                                            0   \n",
       "\n",
       "   anunciante_Pessoa Física  anunciante_Concessionária  \n",
       "0                         1                          0  \n",
       "1                         1                          0  \n",
       "2                         0                          0  \n",
       "3                         0                          0  \n",
       "4                         1                          0  \n",
       "\n",
       "[5 rows x 3290 columns]"
      ]
     },
     "execution_count": 19,
     "metadata": {},
     "output_type": "execute_result"
    }
   ],
   "source": [
    "train_encoded.head()"
   ]
  },
  {
   "cell_type": "code",
   "execution_count": 20,
   "id": "EEbZ4jETwPmX",
   "metadata": {
    "colab": {
     "base_uri": "https://localhost:8080/",
     "height": 317
    },
    "id": "EEbZ4jETwPmX",
    "outputId": "48029687-59f1-401c-9a0b-ca4d7d38a0b5"
   },
   "outputs": [
    {
     "data": {
      "text/html": [
       "<div>\n",
       "<style scoped>\n",
       "    .dataframe tbody tr th:only-of-type {\n",
       "        vertical-align: middle;\n",
       "    }\n",
       "\n",
       "    .dataframe tbody tr th {\n",
       "        vertical-align: top;\n",
       "    }\n",
       "\n",
       "    .dataframe thead th {\n",
       "        text-align: right;\n",
       "    }\n",
       "</style>\n",
       "<table border=\"1\" class=\"dataframe\">\n",
       "  <thead>\n",
       "    <tr style=\"text-align: right;\">\n",
       "      <th></th>\n",
       "      <th>num_fotos</th>\n",
       "      <th>ano_de_fabricacao</th>\n",
       "      <th>ano_modelo</th>\n",
       "      <th>hodometro</th>\n",
       "      <th>num_portas</th>\n",
       "      <th>blindado</th>\n",
       "      <th>tipo_vendedor</th>\n",
       "      <th>entrega_delivery</th>\n",
       "      <th>troca</th>\n",
       "      <th>elegivel_revisao</th>\n",
       "      <th>...</th>\n",
       "      <th>estado_vendedor_Goiás (GO)</th>\n",
       "      <th>estado_vendedor_Espírito Santo (ES)</th>\n",
       "      <th>estado_vendedor_Piauí (PI)</th>\n",
       "      <th>estado_vendedor_Pará (PA)</th>\n",
       "      <th>estado_vendedor_Santa Catarina (SC)</th>\n",
       "      <th>estado_vendedor_Ceará (CE)</th>\n",
       "      <th>anunciante_Loja</th>\n",
       "      <th>anunciante_Acessórios e serviços para autos</th>\n",
       "      <th>anunciante_Pessoa Física</th>\n",
       "      <th>anunciante_Concessionária</th>\n",
       "    </tr>\n",
       "  </thead>\n",
       "  <tbody>\n",
       "    <tr>\n",
       "      <th>0</th>\n",
       "      <td>8.0</td>\n",
       "      <td>2021</td>\n",
       "      <td>2021.0</td>\n",
       "      <td>20258.0</td>\n",
       "      <td>4</td>\n",
       "      <td>0</td>\n",
       "      <td>0</td>\n",
       "      <td>1</td>\n",
       "      <td>1</td>\n",
       "      <td>1</td>\n",
       "      <td>...</td>\n",
       "      <td>0</td>\n",
       "      <td>0</td>\n",
       "      <td>0</td>\n",
       "      <td>0</td>\n",
       "      <td>0</td>\n",
       "      <td>0</td>\n",
       "      <td>0</td>\n",
       "      <td>0</td>\n",
       "      <td>1</td>\n",
       "      <td>0</td>\n",
       "    </tr>\n",
       "    <tr>\n",
       "      <th>1</th>\n",
       "      <td>18.0</td>\n",
       "      <td>2021</td>\n",
       "      <td>2021.0</td>\n",
       "      <td>53045.0</td>\n",
       "      <td>2</td>\n",
       "      <td>0</td>\n",
       "      <td>1</td>\n",
       "      <td>1</td>\n",
       "      <td>1</td>\n",
       "      <td>1</td>\n",
       "      <td>...</td>\n",
       "      <td>0</td>\n",
       "      <td>0</td>\n",
       "      <td>0</td>\n",
       "      <td>0</td>\n",
       "      <td>0</td>\n",
       "      <td>0</td>\n",
       "      <td>1</td>\n",
       "      <td>0</td>\n",
       "      <td>0</td>\n",
       "      <td>0</td>\n",
       "    </tr>\n",
       "    <tr>\n",
       "      <th>2</th>\n",
       "      <td>8.0</td>\n",
       "      <td>2018</td>\n",
       "      <td>2019.0</td>\n",
       "      <td>32486.0</td>\n",
       "      <td>4</td>\n",
       "      <td>0</td>\n",
       "      <td>0</td>\n",
       "      <td>1</td>\n",
       "      <td>1</td>\n",
       "      <td>1</td>\n",
       "      <td>...</td>\n",
       "      <td>1</td>\n",
       "      <td>0</td>\n",
       "      <td>0</td>\n",
       "      <td>0</td>\n",
       "      <td>0</td>\n",
       "      <td>0</td>\n",
       "      <td>0</td>\n",
       "      <td>0</td>\n",
       "      <td>1</td>\n",
       "      <td>0</td>\n",
       "    </tr>\n",
       "    <tr>\n",
       "      <th>3</th>\n",
       "      <td>16.0</td>\n",
       "      <td>2019</td>\n",
       "      <td>2020.0</td>\n",
       "      <td>24937.0</td>\n",
       "      <td>4</td>\n",
       "      <td>0</td>\n",
       "      <td>1</td>\n",
       "      <td>1</td>\n",
       "      <td>1</td>\n",
       "      <td>1</td>\n",
       "      <td>...</td>\n",
       "      <td>0</td>\n",
       "      <td>0</td>\n",
       "      <td>0</td>\n",
       "      <td>0</td>\n",
       "      <td>0</td>\n",
       "      <td>0</td>\n",
       "      <td>1</td>\n",
       "      <td>0</td>\n",
       "      <td>0</td>\n",
       "      <td>0</td>\n",
       "    </tr>\n",
       "    <tr>\n",
       "      <th>4</th>\n",
       "      <td>8.0</td>\n",
       "      <td>2019</td>\n",
       "      <td>2019.0</td>\n",
       "      <td>62074.0</td>\n",
       "      <td>4</td>\n",
       "      <td>0</td>\n",
       "      <td>1</td>\n",
       "      <td>1</td>\n",
       "      <td>1</td>\n",
       "      <td>1</td>\n",
       "      <td>...</td>\n",
       "      <td>0</td>\n",
       "      <td>0</td>\n",
       "      <td>0</td>\n",
       "      <td>0</td>\n",
       "      <td>0</td>\n",
       "      <td>0</td>\n",
       "      <td>1</td>\n",
       "      <td>0</td>\n",
       "      <td>0</td>\n",
       "      <td>0</td>\n",
       "    </tr>\n",
       "  </tbody>\n",
       "</table>\n",
       "<p>5 rows × 3289 columns</p>\n",
       "</div>"
      ],
      "text/plain": [
       "   num_fotos  ano_de_fabricacao  ano_modelo  hodometro  num_portas  blindado  \\\n",
       "0        8.0               2021      2021.0    20258.0           4         0   \n",
       "1       18.0               2021      2021.0    53045.0           2         0   \n",
       "2        8.0               2018      2019.0    32486.0           4         0   \n",
       "3       16.0               2019      2020.0    24937.0           4         0   \n",
       "4        8.0               2019      2019.0    62074.0           4         0   \n",
       "\n",
       "   tipo_vendedor  entrega_delivery  troca  elegivel_revisao  ...  \\\n",
       "0              0                 1      1                 1  ...   \n",
       "1              1                 1      1                 1  ...   \n",
       "2              0                 1      1                 1  ...   \n",
       "3              1                 1      1                 1  ...   \n",
       "4              1                 1      1                 1  ...   \n",
       "\n",
       "   estado_vendedor_Goiás (GO)  estado_vendedor_Espírito Santo (ES)  \\\n",
       "0                           0                                    0   \n",
       "1                           0                                    0   \n",
       "2                           1                                    0   \n",
       "3                           0                                    0   \n",
       "4                           0                                    0   \n",
       "\n",
       "   estado_vendedor_Piauí (PI)  estado_vendedor_Pará (PA)  \\\n",
       "0                           0                          0   \n",
       "1                           0                          0   \n",
       "2                           0                          0   \n",
       "3                           0                          0   \n",
       "4                           0                          0   \n",
       "\n",
       "   estado_vendedor_Santa Catarina (SC)  estado_vendedor_Ceará (CE)  \\\n",
       "0                                    0                           0   \n",
       "1                                    0                           0   \n",
       "2                                    0                           0   \n",
       "3                                    0                           0   \n",
       "4                                    0                           0   \n",
       "\n",
       "   anunciante_Loja  anunciante_Acessórios e serviços para autos  \\\n",
       "0                0                                            0   \n",
       "1                1                                            0   \n",
       "2                0                                            0   \n",
       "3                1                                            0   \n",
       "4                1                                            0   \n",
       "\n",
       "   anunciante_Pessoa Física  anunciante_Concessionária  \n",
       "0                         1                          0  \n",
       "1                         0                          0  \n",
       "2                         1                          0  \n",
       "3                         0                          0  \n",
       "4                         0                          0  \n",
       "\n",
       "[5 rows x 3289 columns]"
      ]
     },
     "execution_count": 20,
     "metadata": {},
     "output_type": "execute_result"
    }
   ],
   "source": [
    "test_encoded.head()"
   ]
  },
  {
   "cell_type": "markdown",
   "id": "puTBpCtEHmhH",
   "metadata": {
    "id": "puTBpCtEHmhH"
   },
   "source": [
    "## Normalização dos dados"
   ]
  },
  {
   "cell_type": "code",
   "execution_count": 21,
   "id": "VpM830miHXmh",
   "metadata": {
    "id": "VpM830miHXmh"
   },
   "outputs": [],
   "source": [
    "def normalizacao(df_encoded):\n",
    "    \"\"\"Realiza a normalização das variáveis numéricas\n",
    "\n",
    "    Args:\n",
    "        df (DataFrame): Dataframe\n",
    "\n",
    "    Returns:\n",
    "        None\n",
    "    \"\"\"\n",
    "    norm = MinMaxScaler()\n",
    "\n",
    "    colunas = ['num_fotos', 'ano_de_fabricacao', 'ano_modelo', 'hodometro', 'num_portas']\n",
    "\n",
    "    for coluna in colunas:\n",
    "        df_encoded[coluna] = norm.fit_transform(df_encoded[coluna].values.reshape(-1, 1))"
   ]
  },
  {
   "cell_type": "code",
   "execution_count": 22,
   "id": "5kvcgq0NHVwu",
   "metadata": {
    "id": "5kvcgq0NHVwu"
   },
   "outputs": [],
   "source": [
    "normalizacao(train_encoded)\n",
    "normalizacao(test_encoded)"
   ]
  },
  {
   "cell_type": "code",
   "execution_count": 23,
   "id": "XFFXQMCv7h8m",
   "metadata": {
    "colab": {
     "base_uri": "https://localhost:8080/",
     "height": 317
    },
    "id": "XFFXQMCv7h8m",
    "outputId": "5b8c0d21-f270-454c-91e4-e49e7360e5d3"
   },
   "outputs": [
    {
     "data": {
      "text/html": [
       "<div>\n",
       "<style scoped>\n",
       "    .dataframe tbody tr th:only-of-type {\n",
       "        vertical-align: middle;\n",
       "    }\n",
       "\n",
       "    .dataframe tbody tr th {\n",
       "        vertical-align: top;\n",
       "    }\n",
       "\n",
       "    .dataframe thead th {\n",
       "        text-align: right;\n",
       "    }\n",
       "</style>\n",
       "<table border=\"1\" class=\"dataframe\">\n",
       "  <thead>\n",
       "    <tr style=\"text-align: right;\">\n",
       "      <th></th>\n",
       "      <th>num_fotos</th>\n",
       "      <th>ano_de_fabricacao</th>\n",
       "      <th>ano_modelo</th>\n",
       "      <th>hodometro</th>\n",
       "      <th>num_portas</th>\n",
       "      <th>blindado</th>\n",
       "      <th>tipo_vendedor</th>\n",
       "      <th>entrega_delivery</th>\n",
       "      <th>troca</th>\n",
       "      <th>elegivel_revisao</th>\n",
       "      <th>...</th>\n",
       "      <th>estado_vendedor_Goiás (GO)</th>\n",
       "      <th>estado_vendedor_Espírito Santo (ES)</th>\n",
       "      <th>estado_vendedor_Piauí (PI)</th>\n",
       "      <th>estado_vendedor_Pará (PA)</th>\n",
       "      <th>estado_vendedor_Santa Catarina (SC)</th>\n",
       "      <th>estado_vendedor_Ceará (CE)</th>\n",
       "      <th>anunciante_Loja</th>\n",
       "      <th>anunciante_Acessórios e serviços para autos</th>\n",
       "      <th>anunciante_Pessoa Física</th>\n",
       "      <th>anunciante_Concessionária</th>\n",
       "    </tr>\n",
       "  </thead>\n",
       "  <tbody>\n",
       "    <tr>\n",
       "      <th>0</th>\n",
       "      <td>0.000000</td>\n",
       "      <td>0.864865</td>\n",
       "      <td>0.769231</td>\n",
       "      <td>0.173534</td>\n",
       "      <td>1.0</td>\n",
       "      <td>0</td>\n",
       "      <td>0</td>\n",
       "      <td>1</td>\n",
       "      <td>1</td>\n",
       "      <td>1</td>\n",
       "      <td>...</td>\n",
       "      <td>0</td>\n",
       "      <td>0</td>\n",
       "      <td>0</td>\n",
       "      <td>0</td>\n",
       "      <td>0</td>\n",
       "      <td>0</td>\n",
       "      <td>0</td>\n",
       "      <td>0</td>\n",
       "      <td>1</td>\n",
       "      <td>0</td>\n",
       "    </tr>\n",
       "    <tr>\n",
       "      <th>1</th>\n",
       "      <td>0.000000</td>\n",
       "      <td>0.864865</td>\n",
       "      <td>0.769231</td>\n",
       "      <td>0.161243</td>\n",
       "      <td>1.0</td>\n",
       "      <td>0</td>\n",
       "      <td>0</td>\n",
       "      <td>1</td>\n",
       "      <td>1</td>\n",
       "      <td>1</td>\n",
       "      <td>...</td>\n",
       "      <td>0</td>\n",
       "      <td>0</td>\n",
       "      <td>0</td>\n",
       "      <td>0</td>\n",
       "      <td>0</td>\n",
       "      <td>0</td>\n",
       "      <td>0</td>\n",
       "      <td>0</td>\n",
       "      <td>1</td>\n",
       "      <td>0</td>\n",
       "    </tr>\n",
       "    <tr>\n",
       "      <th>2</th>\n",
       "      <td>0.615385</td>\n",
       "      <td>0.891892</td>\n",
       "      <td>0.846154</td>\n",
       "      <td>0.112754</td>\n",
       "      <td>1.0</td>\n",
       "      <td>0</td>\n",
       "      <td>1</td>\n",
       "      <td>0</td>\n",
       "      <td>1</td>\n",
       "      <td>1</td>\n",
       "      <td>...</td>\n",
       "      <td>0</td>\n",
       "      <td>0</td>\n",
       "      <td>0</td>\n",
       "      <td>0</td>\n",
       "      <td>0</td>\n",
       "      <td>0</td>\n",
       "      <td>1</td>\n",
       "      <td>0</td>\n",
       "      <td>0</td>\n",
       "      <td>0</td>\n",
       "    </tr>\n",
       "    <tr>\n",
       "      <th>3</th>\n",
       "      <td>0.461538</td>\n",
       "      <td>0.756757</td>\n",
       "      <td>0.692308</td>\n",
       "      <td>0.218627</td>\n",
       "      <td>1.0</td>\n",
       "      <td>0</td>\n",
       "      <td>1</td>\n",
       "      <td>0</td>\n",
       "      <td>0</td>\n",
       "      <td>1</td>\n",
       "      <td>...</td>\n",
       "      <td>0</td>\n",
       "      <td>0</td>\n",
       "      <td>0</td>\n",
       "      <td>0</td>\n",
       "      <td>0</td>\n",
       "      <td>0</td>\n",
       "      <td>1</td>\n",
       "      <td>0</td>\n",
       "      <td>0</td>\n",
       "      <td>0</td>\n",
       "    </tr>\n",
       "    <tr>\n",
       "      <th>4</th>\n",
       "      <td>0.000000</td>\n",
       "      <td>0.756757</td>\n",
       "      <td>0.692308</td>\n",
       "      <td>0.183070</td>\n",
       "      <td>1.0</td>\n",
       "      <td>0</td>\n",
       "      <td>0</td>\n",
       "      <td>1</td>\n",
       "      <td>1</td>\n",
       "      <td>1</td>\n",
       "      <td>...</td>\n",
       "      <td>0</td>\n",
       "      <td>0</td>\n",
       "      <td>0</td>\n",
       "      <td>0</td>\n",
       "      <td>0</td>\n",
       "      <td>0</td>\n",
       "      <td>0</td>\n",
       "      <td>0</td>\n",
       "      <td>1</td>\n",
       "      <td>0</td>\n",
       "    </tr>\n",
       "  </tbody>\n",
       "</table>\n",
       "<p>5 rows × 3290 columns</p>\n",
       "</div>"
      ],
      "text/plain": [
       "   num_fotos  ano_de_fabricacao  ano_modelo  hodometro  num_portas  blindado  \\\n",
       "0   0.000000           0.864865    0.769231   0.173534         1.0         0   \n",
       "1   0.000000           0.864865    0.769231   0.161243         1.0         0   \n",
       "2   0.615385           0.891892    0.846154   0.112754         1.0         0   \n",
       "3   0.461538           0.756757    0.692308   0.218627         1.0         0   \n",
       "4   0.000000           0.756757    0.692308   0.183070         1.0         0   \n",
       "\n",
       "   tipo_vendedor  entrega_delivery  troca  elegivel_revisao  ...  \\\n",
       "0              0                 1      1                 1  ...   \n",
       "1              0                 1      1                 1  ...   \n",
       "2              1                 0      1                 1  ...   \n",
       "3              1                 0      0                 1  ...   \n",
       "4              0                 1      1                 1  ...   \n",
       "\n",
       "   estado_vendedor_Goiás (GO)  estado_vendedor_Espírito Santo (ES)  \\\n",
       "0                           0                                    0   \n",
       "1                           0                                    0   \n",
       "2                           0                                    0   \n",
       "3                           0                                    0   \n",
       "4                           0                                    0   \n",
       "\n",
       "   estado_vendedor_Piauí (PI)  estado_vendedor_Pará (PA)  \\\n",
       "0                           0                          0   \n",
       "1                           0                          0   \n",
       "2                           0                          0   \n",
       "3                           0                          0   \n",
       "4                           0                          0   \n",
       "\n",
       "   estado_vendedor_Santa Catarina (SC)  estado_vendedor_Ceará (CE)  \\\n",
       "0                                    0                           0   \n",
       "1                                    0                           0   \n",
       "2                                    0                           0   \n",
       "3                                    0                           0   \n",
       "4                                    0                           0   \n",
       "\n",
       "   anunciante_Loja  anunciante_Acessórios e serviços para autos  \\\n",
       "0                0                                            0   \n",
       "1                0                                            0   \n",
       "2                1                                            0   \n",
       "3                1                                            0   \n",
       "4                0                                            0   \n",
       "\n",
       "   anunciante_Pessoa Física  anunciante_Concessionária  \n",
       "0                         1                          0  \n",
       "1                         1                          0  \n",
       "2                         0                          0  \n",
       "3                         0                          0  \n",
       "4                         1                          0  \n",
       "\n",
       "[5 rows x 3290 columns]"
      ]
     },
     "execution_count": 23,
     "metadata": {},
     "output_type": "execute_result"
    }
   ],
   "source": [
    "train_encoded.head()"
   ]
  },
  {
   "cell_type": "code",
   "execution_count": 24,
   "id": "Iaw6_XXnIonk",
   "metadata": {
    "colab": {
     "base_uri": "https://localhost:8080/",
     "height": 317
    },
    "id": "Iaw6_XXnIonk",
    "outputId": "ed0b3ab7-b91c-488a-c4d4-45bbc1153826"
   },
   "outputs": [
    {
     "data": {
      "text/html": [
       "<div>\n",
       "<style scoped>\n",
       "    .dataframe tbody tr th:only-of-type {\n",
       "        vertical-align: middle;\n",
       "    }\n",
       "\n",
       "    .dataframe tbody tr th {\n",
       "        vertical-align: top;\n",
       "    }\n",
       "\n",
       "    .dataframe thead th {\n",
       "        text-align: right;\n",
       "    }\n",
       "</style>\n",
       "<table border=\"1\" class=\"dataframe\">\n",
       "  <thead>\n",
       "    <tr style=\"text-align: right;\">\n",
       "      <th></th>\n",
       "      <th>num_fotos</th>\n",
       "      <th>ano_de_fabricacao</th>\n",
       "      <th>ano_modelo</th>\n",
       "      <th>hodometro</th>\n",
       "      <th>num_portas</th>\n",
       "      <th>blindado</th>\n",
       "      <th>tipo_vendedor</th>\n",
       "      <th>entrega_delivery</th>\n",
       "      <th>troca</th>\n",
       "      <th>elegivel_revisao</th>\n",
       "      <th>...</th>\n",
       "      <th>estado_vendedor_Goiás (GO)</th>\n",
       "      <th>estado_vendedor_Espírito Santo (ES)</th>\n",
       "      <th>estado_vendedor_Piauí (PI)</th>\n",
       "      <th>estado_vendedor_Pará (PA)</th>\n",
       "      <th>estado_vendedor_Santa Catarina (SC)</th>\n",
       "      <th>estado_vendedor_Ceará (CE)</th>\n",
       "      <th>anunciante_Loja</th>\n",
       "      <th>anunciante_Acessórios e serviços para autos</th>\n",
       "      <th>anunciante_Pessoa Física</th>\n",
       "      <th>anunciante_Concessionária</th>\n",
       "    </tr>\n",
       "  </thead>\n",
       "  <tbody>\n",
       "    <tr>\n",
       "      <th>0</th>\n",
       "      <td>0.000000</td>\n",
       "      <td>0.864865</td>\n",
       "      <td>0.769231</td>\n",
       "      <td>0.173534</td>\n",
       "      <td>1.0</td>\n",
       "      <td>0</td>\n",
       "      <td>0</td>\n",
       "      <td>1</td>\n",
       "      <td>1</td>\n",
       "      <td>1</td>\n",
       "      <td>...</td>\n",
       "      <td>0</td>\n",
       "      <td>0</td>\n",
       "      <td>0</td>\n",
       "      <td>0</td>\n",
       "      <td>0</td>\n",
       "      <td>0</td>\n",
       "      <td>0</td>\n",
       "      <td>0</td>\n",
       "      <td>1</td>\n",
       "      <td>0</td>\n",
       "    </tr>\n",
       "    <tr>\n",
       "      <th>1</th>\n",
       "      <td>0.000000</td>\n",
       "      <td>0.864865</td>\n",
       "      <td>0.769231</td>\n",
       "      <td>0.161243</td>\n",
       "      <td>1.0</td>\n",
       "      <td>0</td>\n",
       "      <td>0</td>\n",
       "      <td>1</td>\n",
       "      <td>1</td>\n",
       "      <td>1</td>\n",
       "      <td>...</td>\n",
       "      <td>0</td>\n",
       "      <td>0</td>\n",
       "      <td>0</td>\n",
       "      <td>0</td>\n",
       "      <td>0</td>\n",
       "      <td>0</td>\n",
       "      <td>0</td>\n",
       "      <td>0</td>\n",
       "      <td>1</td>\n",
       "      <td>0</td>\n",
       "    </tr>\n",
       "    <tr>\n",
       "      <th>2</th>\n",
       "      <td>0.615385</td>\n",
       "      <td>0.891892</td>\n",
       "      <td>0.846154</td>\n",
       "      <td>0.112754</td>\n",
       "      <td>1.0</td>\n",
       "      <td>0</td>\n",
       "      <td>1</td>\n",
       "      <td>0</td>\n",
       "      <td>1</td>\n",
       "      <td>1</td>\n",
       "      <td>...</td>\n",
       "      <td>0</td>\n",
       "      <td>0</td>\n",
       "      <td>0</td>\n",
       "      <td>0</td>\n",
       "      <td>0</td>\n",
       "      <td>0</td>\n",
       "      <td>1</td>\n",
       "      <td>0</td>\n",
       "      <td>0</td>\n",
       "      <td>0</td>\n",
       "    </tr>\n",
       "    <tr>\n",
       "      <th>3</th>\n",
       "      <td>0.461538</td>\n",
       "      <td>0.756757</td>\n",
       "      <td>0.692308</td>\n",
       "      <td>0.218627</td>\n",
       "      <td>1.0</td>\n",
       "      <td>0</td>\n",
       "      <td>1</td>\n",
       "      <td>0</td>\n",
       "      <td>0</td>\n",
       "      <td>1</td>\n",
       "      <td>...</td>\n",
       "      <td>0</td>\n",
       "      <td>0</td>\n",
       "      <td>0</td>\n",
       "      <td>0</td>\n",
       "      <td>0</td>\n",
       "      <td>0</td>\n",
       "      <td>1</td>\n",
       "      <td>0</td>\n",
       "      <td>0</td>\n",
       "      <td>0</td>\n",
       "    </tr>\n",
       "    <tr>\n",
       "      <th>4</th>\n",
       "      <td>0.000000</td>\n",
       "      <td>0.756757</td>\n",
       "      <td>0.692308</td>\n",
       "      <td>0.183070</td>\n",
       "      <td>1.0</td>\n",
       "      <td>0</td>\n",
       "      <td>0</td>\n",
       "      <td>1</td>\n",
       "      <td>1</td>\n",
       "      <td>1</td>\n",
       "      <td>...</td>\n",
       "      <td>0</td>\n",
       "      <td>0</td>\n",
       "      <td>0</td>\n",
       "      <td>0</td>\n",
       "      <td>0</td>\n",
       "      <td>0</td>\n",
       "      <td>0</td>\n",
       "      <td>0</td>\n",
       "      <td>1</td>\n",
       "      <td>0</td>\n",
       "    </tr>\n",
       "  </tbody>\n",
       "</table>\n",
       "<p>5 rows × 3290 columns</p>\n",
       "</div>"
      ],
      "text/plain": [
       "   num_fotos  ano_de_fabricacao  ano_modelo  hodometro  num_portas  blindado  \\\n",
       "0   0.000000           0.864865    0.769231   0.173534         1.0         0   \n",
       "1   0.000000           0.864865    0.769231   0.161243         1.0         0   \n",
       "2   0.615385           0.891892    0.846154   0.112754         1.0         0   \n",
       "3   0.461538           0.756757    0.692308   0.218627         1.0         0   \n",
       "4   0.000000           0.756757    0.692308   0.183070         1.0         0   \n",
       "\n",
       "   tipo_vendedor  entrega_delivery  troca  elegivel_revisao  ...  \\\n",
       "0              0                 1      1                 1  ...   \n",
       "1              0                 1      1                 1  ...   \n",
       "2              1                 0      1                 1  ...   \n",
       "3              1                 0      0                 1  ...   \n",
       "4              0                 1      1                 1  ...   \n",
       "\n",
       "   estado_vendedor_Goiás (GO)  estado_vendedor_Espírito Santo (ES)  \\\n",
       "0                           0                                    0   \n",
       "1                           0                                    0   \n",
       "2                           0                                    0   \n",
       "3                           0                                    0   \n",
       "4                           0                                    0   \n",
       "\n",
       "   estado_vendedor_Piauí (PI)  estado_vendedor_Pará (PA)  \\\n",
       "0                           0                          0   \n",
       "1                           0                          0   \n",
       "2                           0                          0   \n",
       "3                           0                          0   \n",
       "4                           0                          0   \n",
       "\n",
       "   estado_vendedor_Santa Catarina (SC)  estado_vendedor_Ceará (CE)  \\\n",
       "0                                    0                           0   \n",
       "1                                    0                           0   \n",
       "2                                    0                           0   \n",
       "3                                    0                           0   \n",
       "4                                    0                           0   \n",
       "\n",
       "   anunciante_Loja  anunciante_Acessórios e serviços para autos  \\\n",
       "0                0                                            0   \n",
       "1                0                                            0   \n",
       "2                1                                            0   \n",
       "3                1                                            0   \n",
       "4                0                                            0   \n",
       "\n",
       "   anunciante_Pessoa Física  anunciante_Concessionária  \n",
       "0                         1                          0  \n",
       "1                         1                          0  \n",
       "2                         0                          0  \n",
       "3                         0                          0  \n",
       "4                         1                          0  \n",
       "\n",
       "[5 rows x 3290 columns]"
      ]
     },
     "execution_count": 24,
     "metadata": {},
     "output_type": "execute_result"
    }
   ],
   "source": [
    "train_encoded.head()"
   ]
  },
  {
   "cell_type": "markdown",
   "id": "y8cGgnf4KObP",
   "metadata": {
    "id": "y8cGgnf4KObP"
   },
   "source": [
    "## Separação da base de dados"
   ]
  },
  {
   "cell_type": "code",
   "execution_count": 25,
   "id": "yFM4pIBFKXdr",
   "metadata": {
    "id": "yFM4pIBFKXdr"
   },
   "outputs": [],
   "source": [
    "X = train_encoded.drop('preco', axis=1)\n",
    "y = train_encoded['preco']"
   ]
  },
  {
   "cell_type": "markdown",
   "id": "ZulqOB1EuX-y",
   "metadata": {
    "id": "ZulqOB1EuX-y"
   },
   "source": [
    "##  Análise de Componentes Principais (PCA)"
   ]
  },
  {
   "cell_type": "code",
   "execution_count": 26,
   "id": "mb_6tPlKKjdw",
   "metadata": {
    "id": "mb_6tPlKKjdw"
   },
   "outputs": [],
   "source": [
    "# Número de componentes\n",
    "pca = PCA(n_components=2)"
   ]
  },
  {
   "cell_type": "code",
   "execution_count": 27,
   "id": "p5xsMzCLuaAU",
   "metadata": {
    "colab": {
     "base_uri": "https://localhost:8080/"
    },
    "id": "p5xsMzCLuaAU",
    "outputId": "3c307bbf-a5a8-4eea-a4f8-a93f5c62e4f3"
   },
   "outputs": [
    {
     "data": {
      "text/plain": [
       "array([[-1.03156583,  0.18985697],\n",
       "       [-0.31469032, -0.90811465],\n",
       "       [ 1.35003116,  0.03931401],\n",
       "       ...,\n",
       "       [-0.18167701, -1.25569503],\n",
       "       [ 0.96969846,  1.27186241],\n",
       "       [ 0.86831478, -0.85054593]])"
      ]
     },
     "execution_count": 27,
     "metadata": {},
     "output_type": "execute_result"
    }
   ],
   "source": [
    "X_pca_train = pca.fit_transform(X)\n",
    "X_pca_train"
   ]
  },
  {
   "cell_type": "code",
   "execution_count": 28,
   "id": "9zgAKLXyulKc",
   "metadata": {
    "colab": {
     "base_uri": "https://localhost:8080/"
    },
    "id": "9zgAKLXyulKc",
    "outputId": "6fc37387-7822-49dd-e632-f2646899422d"
   },
   "outputs": [
    {
     "data": {
      "text/plain": [
       "array([[-0.48134514,  0.00426713],\n",
       "       [ 0.97440768,  0.69403038],\n",
       "       [-0.33992039, -1.01140488],\n",
       "       ...,\n",
       "       [-1.03877124, -0.09623715],\n",
       "       [ 0.68318438,  1.5376801 ],\n",
       "       [-0.31453881, -1.36727115]])"
      ]
     },
     "execution_count": 28,
     "metadata": {},
     "output_type": "execute_result"
    }
   ],
   "source": [
    "X_pca_teste = pca.fit_transform(test_encoded)\n",
    "X_pca_teste"
   ]
  },
  {
   "cell_type": "markdown",
   "id": "BmapA4fWJbkh",
   "metadata": {
    "id": "BmapA4fWJbkh"
   },
   "source": [
    "## Validação Cruzada\n",
    "\n",
    "> Análise dos modelos"
   ]
  },
  {
   "cell_type": "markdown",
   "id": "vprYAKydK-Mp",
   "metadata": {
    "id": "vprYAKydK-Mp"
   },
   "source": [
    "### Regressão Linear"
   ]
  },
  {
   "cell_type": "code",
   "execution_count": 29,
   "id": "2Hk1dCnBLBTn",
   "metadata": {
    "id": "2Hk1dCnBLBTn"
   },
   "outputs": [],
   "source": [
    "model_regressao_linear = LinearRegression()\n",
    "rmse_rl = cross_val_score(estimator=model_regressao_linear, X= X_pca_train, y=y, cv=10, scoring='neg_root_mean_squared_error')"
   ]
  },
  {
   "cell_type": "markdown",
   "id": "rR839KZILXK-",
   "metadata": {
    "id": "rR839KZILXK-"
   },
   "source": [
    "Root Mean Squared Erro (RMSE) - Regressão Linear"
   ]
  },
  {
   "cell_type": "code",
   "execution_count": 30,
   "id": "bv8hiV9vLVIe",
   "metadata": {
    "colab": {
     "base_uri": "https://localhost:8080/"
    },
    "id": "bv8hiV9vLVIe",
    "outputId": "0034ac2b-aa09-40a7-a364-f797e93456ba"
   },
   "outputs": [
    {
     "data": {
      "text/plain": [
       "array([79547.93798077, 81140.97695979, 85992.51426768, 82584.23553273,\n",
       "       78675.84128545, 83288.11089655, 79242.23659645, 80468.9839312 ,\n",
       "       77758.2055222 , 79895.18130378])"
      ]
     },
     "execution_count": 30,
     "metadata": {},
     "output_type": "execute_result"
    }
   ],
   "source": [
    "rmse_rl = rmse_rl * -1\n",
    "rmse_rl"
   ]
  },
  {
   "cell_type": "code",
   "execution_count": 31,
   "id": "Dvo0MizyLVK4",
   "metadata": {
    "colab": {
     "base_uri": "https://localhost:8080/"
    },
    "id": "Dvo0MizyLVK4",
    "outputId": "331ed1b3-3dbf-4191-8e88-e7c3b17d590e"
   },
   "outputs": [
    {
     "data": {
      "text/plain": [
       "80859.42242765974"
      ]
     },
     "execution_count": 31,
     "metadata": {},
     "output_type": "execute_result"
    }
   ],
   "source": [
    "rmse_rl_mean = rmse_rl.mean()\n",
    "rmse_rl_mean"
   ]
  },
  {
   "cell_type": "markdown",
   "id": "5LP3_cqTMiBe",
   "metadata": {
    "id": "5LP3_cqTMiBe"
   },
   "source": [
    "### Decision Tree Regressor"
   ]
  },
  {
   "cell_type": "code",
   "execution_count": 32,
   "id": "rAxS5JJ0LVQi",
   "metadata": {
    "id": "rAxS5JJ0LVQi"
   },
   "outputs": [],
   "source": [
    "model_decision_tree_rg = DecisionTreeRegressor()\n",
    "\n",
    "rmse_dt = cross_val_score(estimator=model_decision_tree_rg, X=X_pca_train, y=y, cv=10, scoring='neg_root_mean_squared_error')"
   ]
  },
  {
   "cell_type": "markdown",
   "id": "sx1GMKDEM1wg",
   "metadata": {
    "id": "sx1GMKDEM1wg"
   },
   "source": [
    "Root Mean Squared Erro (RMSE) - Decision Tree Regressor"
   ]
  },
  {
   "cell_type": "code",
   "execution_count": 33,
   "id": "odDpUwZCLVU9",
   "metadata": {
    "colab": {
     "base_uri": "https://localhost:8080/"
    },
    "id": "odDpUwZCLVU9",
    "outputId": "58b76c0b-c752-4feb-ae55-59ff265d885a"
   },
   "outputs": [
    {
     "data": {
      "text/plain": [
       "array([101205.21217336,  98458.09322943, 103647.79501473, 103946.42317325,\n",
       "       100633.16710616, 101288.1348619 ,  96272.88114993,  94264.91174885,\n",
       "        99884.82827662, 100695.35211536])"
      ]
     },
     "execution_count": 33,
     "metadata": {},
     "output_type": "execute_result"
    }
   ],
   "source": [
    "rmse_dt = rmse_dt * -1\n",
    "rmse_dt"
   ]
  },
  {
   "cell_type": "code",
   "execution_count": 34,
   "id": "ikaIoxFELVYd",
   "metadata": {
    "colab": {
     "base_uri": "https://localhost:8080/"
    },
    "id": "ikaIoxFELVYd",
    "outputId": "52092d67-6d4a-4051-b9cb-3ff8aa181116"
   },
   "outputs": [
    {
     "data": {
      "text/plain": [
       "100029.6798849595"
      ]
     },
     "execution_count": 34,
     "metadata": {},
     "output_type": "execute_result"
    }
   ],
   "source": [
    "rmse_dt_mean = rmse_dt.mean()\n",
    "rmse_dt_mean"
   ]
  },
  {
   "cell_type": "markdown",
   "id": "C3cmrAD9NGqo",
   "metadata": {
    "id": "C3cmrAD9NGqo"
   },
   "source": [
    "**Comparação dos valores RMSE**"
   ]
  },
  {
   "cell_type": "code",
   "execution_count": 43,
   "id": "E-GytzU-NFr8",
   "metadata": {
    "colab": {
     "base_uri": "https://localhost:8080/",
     "height": 452
    },
    "id": "E-GytzU-NFr8",
    "outputId": "e247a745-3682-44ee-c0f1-6a14a57fd645"
   },
   "outputs": [
    {
     "data": {
      "image/png": "[encoded data removed]",
      "text/plain": [
       "<Figure size 640x480 with 1 Axes>"
      ]
     },
     "metadata": {},
     "output_type": "display_data"
    }
   ],
   "source": [
    "rmse = pd.DataFrame({'RegressaoLinear': rmse_rl, 'DecisionTreeRegressor' : rmse_dt})\n",
    "sns.boxplot(data = rmse, palette=\"crest\").set_title('Comparação dos valores de RMSE');"
   ]
  },
  {
   "cell_type": "markdown",
   "id": "Q8rVXmeaNg-W",
   "metadata": {
    "id": "Q8rVXmeaNg-W"
   },
   "source": [
    "**Portanto, o modelo escolhido para treinamento será Regressão Polinomial, pois obteve o menor valor médio para a métrica RMSE**"
   ]
  },
  {
   "cell_type": "markdown",
   "id": "NcXxw2GzNsSr",
   "metadata": {
    "id": "NcXxw2GzNsSr"
   },
   "source": [
    "## Treinamento do modelo"
   ]
  },
  {
   "cell_type": "code",
   "execution_count": 36,
   "id": "5a3da1b5",
   "metadata": {},
   "outputs": [
    {
     "data": {
      "text/html": [
       "<style>#sk-container-id-1 {color: black;background-color: white;}#sk-container-id-1 pre{padding: 0;}#sk-container-id-1 div.sk-toggleable {background-color: white;}#sk-container-id-1 label.sk-toggleable__label {cursor: pointer;display: block;width: 100%;margin-bottom: 0;padding: 0.3em;box-sizing: border-box;text-align: center;}#sk-container-id-1 label.sk-toggleable__label-arrow:before {content: \"▸\";float: left;margin-right: 0.25em;color: #696969;}#sk-container-id-1 label.sk-toggleable__label-arrow:hover:before {color: black;}#sk-container-id-1 div.sk-estimator:hover label.sk-toggleable__label-arrow:before {color: black;}#sk-container-id-1 div.sk-toggleable__content {max-height: 0;max-width: 0;overflow: hidden;text-align: left;background-color: #f0f8ff;}#sk-container-id-1 div.sk-toggleable__content pre {margin: 0.2em;color: black;border-radius: 0.25em;background-color: #f0f8ff;}#sk-container-id-1 input.sk-toggleable__control:checked~div.sk-toggleable__content {max-height: 200px;max-width: 100%;overflow: auto;}#sk-container-id-1 input.sk-toggleable__control:checked~label.sk-toggleable__label-arrow:before {content: \"▾\";}#sk-container-id-1 div.sk-estimator input.sk-toggleable__control:checked~label.sk-toggleable__label {background-color: #d4ebff;}#sk-container-id-1 div.sk-label input.sk-toggleable__control:checked~label.sk-toggleable__label {background-color: #d4ebff;}#sk-container-id-1 input.sk-hidden--visually {border: 0;clip: rect(1px 1px 1px 1px);clip: rect(1px, 1px, 1px, 1px);height: 1px;margin: -1px;overflow: hidden;padding: 0;position: absolute;width: 1px;}#sk-container-id-1 div.sk-estimator {font-family: monospace;background-color: #f0f8ff;border: 1px dotted black;border-radius: 0.25em;box-sizing: border-box;margin-bottom: 0.5em;}#sk-container-id-1 div.sk-estimator:hover {background-color: #d4ebff;}#sk-container-id-1 div.sk-parallel-item::after {content: \"\";width: 100%;border-bottom: 1px solid gray;flex-grow: 1;}#sk-container-id-1 div.sk-label:hover label.sk-toggleable__label {background-color: #d4ebff;}#sk-container-id-1 div.sk-serial::before {content: \"\";position: absolute;border-left: 1px solid gray;box-sizing: border-box;top: 0;bottom: 0;left: 50%;z-index: 0;}#sk-container-id-1 div.sk-serial {display: flex;flex-direction: column;align-items: center;background-color: white;padding-right: 0.2em;padding-left: 0.2em;position: relative;}#sk-container-id-1 div.sk-item {position: relative;z-index: 1;}#sk-container-id-1 div.sk-parallel {display: flex;align-items: stretch;justify-content: center;background-color: white;position: relative;}#sk-container-id-1 div.sk-item::before, #sk-container-id-1 div.sk-parallel-item::before {content: \"\";position: absolute;border-left: 1px solid gray;box-sizing: border-box;top: 0;bottom: 0;left: 50%;z-index: -1;}#sk-container-id-1 div.sk-parallel-item {display: flex;flex-direction: column;z-index: 1;position: relative;background-color: white;}#sk-container-id-1 div.sk-parallel-item:first-child::after {align-self: flex-end;width: 50%;}#sk-container-id-1 div.sk-parallel-item:last-child::after {align-self: flex-start;width: 50%;}#sk-container-id-1 div.sk-parallel-item:only-child::after {width: 0;}#sk-container-id-1 div.sk-dashed-wrapped {border: 1px dashed gray;margin: 0 0.4em 0.5em 0.4em;box-sizing: border-box;padding-bottom: 0.4em;background-color: white;}#sk-container-id-1 div.sk-label label {font-family: monospace;font-weight: bold;display: inline-block;line-height: 1.2em;}#sk-container-id-1 div.sk-label-container {text-align: center;}#sk-container-id-1 div.sk-container {/* jupyter's `normalize.less` sets `[hidden] { display: none; }` but bootstrap.min.css set `[hidden] { display: none !important; }` so we also need the `!important` here to be able to override the default hidden behavior on the sphinx rendered scikit-learn.org. See: https://github.com/scikit-learn/scikit-learn/issues/21755 */display: inline-block !important;position: relative;}#sk-container-id-1 div.sk-text-repr-fallback {display: none;}</style><div id=\"sk-container-id-1\" class=\"sk-top-container\"><div class=\"sk-text-repr-fallback\"><pre>LinearRegression()</pre><b>In a Jupyter environment, please rerun this cell to show the HTML representation or trust the notebook. <br />On GitHub, the HTML representation is unable to render, please try loading this page with nbviewer.org.</b></div><div class=\"sk-container\" hidden><div class=\"sk-item\"><div class=\"sk-estimator sk-toggleable\"><input class=\"sk-toggleable__control sk-hidden--visually\" id=\"sk-estimator-id-1\" type=\"checkbox\" checked><label for=\"sk-estimator-id-1\" class=\"sk-toggleable__label sk-toggleable__label-arrow\">LinearRegression</label><div class=\"sk-toggleable__content\"><pre>LinearRegression()</pre></div></div></div></div></div>"
      ],
      "text/plain": [
       "LinearRegression()"
      ]
     },
     "execution_count": 36,
     "metadata": {},
     "output_type": "execute_result"
    }
   ],
   "source": [
    "model_regressao_linear.fit(X_pca_train, y)"
   ]
  },
  {
   "cell_type": "markdown",
   "id": "6ef91e2d",
   "metadata": {},
   "source": [
    "**Valores preditos pelo modelo**"
   ]
  },
  {
   "cell_type": "code",
   "execution_count": 37,
   "id": "c1961813",
   "metadata": {},
   "outputs": [
    {
     "data": {
      "text/plain": [
       "array([137612.78402521, 118787.08664783, 143406.72428863, 116950.54191439,\n",
       "       121428.15436682])"
      ]
     },
     "execution_count": 37,
     "metadata": {},
     "output_type": "execute_result"
    }
   ],
   "source": [
    "y_pred = model_regressao_linear.predict(X_pca_teste)\n",
    "y_pred[:5]"
   ]
  },
  {
   "cell_type": "code",
   "execution_count": 38,
   "id": "eb322ceb",
   "metadata": {},
   "outputs": [
    {
     "data": {
      "text/plain": [
       "['../models/model_regressao_linear.pkl']"
      ]
     },
     "execution_count": 38,
     "metadata": {},
     "output_type": "execute_result"
    }
   ],
   "source": [
    "joblib.dump(model_regressao_linear, '../models/model_regressao_linear.pkl')"
   ]
  },
  {
   "cell_type": "markdown",
   "id": "f1881334",
   "metadata": {},
   "source": [
    "## Resultado Final do modelo"
   ]
  },
  {
   "cell_type": "code",
   "execution_count": 39,
   "id": "1f866468",
   "metadata": {},
   "outputs": [],
   "source": [
    "id_df_teste = id_df_teste.reset_index()"
   ]
  },
  {
   "cell_type": "code",
   "execution_count": 40,
   "id": "407204b6",
   "metadata": {},
   "outputs": [],
   "source": [
    "df_predicted= pd.DataFrame()\n",
    "df_predicted['id'] = id_df_teste['id']\n",
    "df_predicted['predict'] = y_pred"
   ]
  },
  {
   "cell_type": "code",
   "execution_count": 41,
   "id": "b30b29a6",
   "metadata": {},
   "outputs": [
    {
     "data": {
      "text/html": [
       "<div>\n",
       "<style scoped>\n",
       "    .dataframe tbody tr th:only-of-type {\n",
       "        vertical-align: middle;\n",
       "    }\n",
       "\n",
       "    .dataframe tbody tr th {\n",
       "        vertical-align: top;\n",
       "    }\n",
       "\n",
       "    .dataframe thead th {\n",
       "        text-align: right;\n",
       "    }\n",
       "</style>\n",
       "<table border=\"1\" class=\"dataframe\">\n",
       "  <thead>\n",
       "    <tr style=\"text-align: right;\">\n",
       "      <th></th>\n",
       "      <th>id</th>\n",
       "      <th>predict</th>\n",
       "    </tr>\n",
       "  </thead>\n",
       "  <tbody>\n",
       "    <tr>\n",
       "      <th>0</th>\n",
       "      <td>13518783164498355150900635905895481162</td>\n",
       "      <td>137612.784025</td>\n",
       "    </tr>\n",
       "    <tr>\n",
       "      <th>1</th>\n",
       "      <td>299896161723793383246777788797566040330</td>\n",
       "      <td>118787.086648</td>\n",
       "    </tr>\n",
       "    <tr>\n",
       "      <th>2</th>\n",
       "      <td>316180649972302128246133616457018378621</td>\n",
       "      <td>143406.724289</td>\n",
       "    </tr>\n",
       "    <tr>\n",
       "      <th>3</th>\n",
       "      <td>222527157104148385909188217274642813298</td>\n",
       "      <td>116950.541914</td>\n",
       "    </tr>\n",
       "    <tr>\n",
       "      <th>4</th>\n",
       "      <td>160460343059850745858546502614838368036</td>\n",
       "      <td>121428.154367</td>\n",
       "    </tr>\n",
       "    <tr>\n",
       "      <th>5</th>\n",
       "      <td>262727202368986244371977784343233436999</td>\n",
       "      <td>116641.126931</td>\n",
       "    </tr>\n",
       "    <tr>\n",
       "      <th>6</th>\n",
       "      <td>254093764205800086330999281077926851120</td>\n",
       "      <td>142353.544439</td>\n",
       "    </tr>\n",
       "    <tr>\n",
       "      <th>7</th>\n",
       "      <td>26118184613036116787803832945215674478</td>\n",
       "      <td>124187.728970</td>\n",
       "    </tr>\n",
       "    <tr>\n",
       "      <th>8</th>\n",
       "      <td>216524630140335566712794225427064313</td>\n",
       "      <td>144978.709938</td>\n",
       "    </tr>\n",
       "    <tr>\n",
       "      <th>9</th>\n",
       "      <td>185631381169816366226494379020452029389</td>\n",
       "      <td>137403.906438</td>\n",
       "    </tr>\n",
       "  </tbody>\n",
       "</table>\n",
       "</div>"
      ],
      "text/plain": [
       "                                        id        predict\n",
       "0   13518783164498355150900635905895481162  137612.784025\n",
       "1  299896161723793383246777788797566040330  118787.086648\n",
       "2  316180649972302128246133616457018378621  143406.724289\n",
       "3  222527157104148385909188217274642813298  116950.541914\n",
       "4  160460343059850745858546502614838368036  121428.154367\n",
       "5  262727202368986244371977784343233436999  116641.126931\n",
       "6  254093764205800086330999281077926851120  142353.544439\n",
       "7   26118184613036116787803832945215674478  124187.728970\n",
       "8     216524630140335566712794225427064313  144978.709938\n",
       "9  185631381169816366226494379020452029389  137403.906438"
      ]
     },
     "execution_count": 41,
     "metadata": {},
     "output_type": "execute_result"
    }
   ],
   "source": [
    "df_predicted.head(10)"
   ]
  },
  {
   "cell_type": "code",
   "execution_count": 42,
   "id": "7c037c60",
   "metadata": {},
   "outputs": [
    {
     "name": "stdout",
     "output_type": "stream",
     "text": [
      "Arquivo CSV salvo com sucesso!\n"
     ]
    }
   ],
   "source": [
    "# Salvar o resultado final do modelo\n",
    "df_predicted.to_csv('../results/predicted.csv', index=False)\n",
    "\n",
    "print(\"Arquivo CSV salvo com sucesso!\")"
   ]
  },
  {
   "cell_type": "code",
   "execution_count": null,
   "id": "92a0e77c",
   "metadata": {},
   "outputs": [],
   "source": []
  }
 ],
 "metadata": {
  "accelerator": "GPU",
  "colab": {
   "collapsed_sections": [
    "6d8c5817",
    "LLsgCIv_oWHB",
    "u-krcnet1OpC",
    "qjaVOIy01hJf",
    "puTBpCtEHmhH",
    "y8cGgnf4KObP",
    "ZulqOB1EuX-y"
   ],
   "gpuType": "T4",
   "provenance": []
  },
  "kernelspec": {
   "display_name": "Python 3 (ipykernel)",
   "language": "python",
   "name": "python3"
  },
  "language_info": {
   "codemirror_mode": {
    "name": "ipython",
    "version": 3
   },
   "file_extension": ".py",
   "mimetype": "text/x-python",
   "name": "python",
   "nbconvert_exporter": "python",
   "pygments_lexer": "ipython3",
   "version": "3.10.9"
  }
 },
 "nbformat": 4,
 "nbformat_minor": 5
}
